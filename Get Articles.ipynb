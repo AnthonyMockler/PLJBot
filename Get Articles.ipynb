{
 "cells": [
  {
   "cell_type": "code",
   "execution_count": 1,
   "metadata": {},
   "outputs": [],
   "source": [
    "import requests"
   ]
  },
  {
   "cell_type": "code",
   "execution_count": null,
   "metadata": {},
   "outputs": [],
   "source": [
    "from bs4 import BeautifulSoup"
   ]
  },
  {
   "cell_type": "code",
   "execution_count": 113,
   "metadata": {},
   "outputs": [],
   "source": [
    "from multiprocessing.dummy import Pool\n",
    "pool = Pool(8)"
   ]
  },
  {
   "cell_type": "code",
   "execution_count": null,
   "metadata": {},
   "outputs": [],
   "source": [
    "def get_articles_by_year(year):\n",
    "    url = 'https://medium.com/pulse-lab-jakarta/archive/{}'.format(str(year))\n",
    "    articles = requests.get(url)\n",
    "    soup = BeautifulSoup(articles.content)\n",
    "    links = soup.findAll('a')\n",
    "    articles = list()\n",
    "    arts = [link['href'] for link in links if '/pulse-lab-jakarta/' in link['href']]\n",
    "    arts = [art for art in arts if '?' in art]\n",
    "    arts = [art.split('?')[0] for art in arts]\n",
    "    return list(set(arts))"
   ]
  },
  {
   "cell_type": "code",
   "execution_count": null,
   "metadata": {},
   "outputs": [],
   "source": [
    "def get_text_for_article(url):\n",
    "    doc = requests.get(url)\n",
    "    soup = BeautifulSoup(doc.content)\n",
    "    article_text = soup.findAll(attrs={'class': 'n p'})\n",
    "\n",
    "    lengths = list()\n",
    "    for article in article_text:\n",
    "        lengths.append(len(article.text))\n",
    "    longest = lengths.index(max(lengths))\n",
    "    return article_text[longest].text"
   ]
  },
  {
   "cell_type": "code",
   "execution_count": 58,
   "metadata": {},
   "outputs": [],
   "source": [
    "all_articles = list()\n",
    "for i in range(2015,2020):\n",
    "    arts = get_articles_by_year(i)\n",
    "    all_articles.extend(arts)"
   ]
  },
  {
   "cell_type": "code",
   "execution_count": 119,
   "metadata": {},
   "outputs": [],
   "source": [
    "all_texts = list()\n",
    "for article in all_articles:\n",
    "    text = get_text_for_article(article)\n",
    "    all_texts.append(text)\n",
    "    "
   ]
  },
  {
   "cell_type": "code",
   "execution_count": 123,
   "metadata": {},
   "outputs": [],
   "source": [
    "with open('all_texts.txt', 'a') as outfile:\n",
    "    for item in all_texts:\n",
    "        outfile.write(item)\n",
    "        "
   ]
  },
  {
   "cell_type": "code",
   "execution_count": null,
   "metadata": {},
   "outputs": [],
   "source": []
  }
 ],
 "metadata": {
  "kernelspec": {
   "display_name": "Python 3",
   "language": "python",
   "name": "python3"
  },
  "language_info": {
   "codemirror_mode": {
    "name": "ipython",
    "version": 3
   },
   "file_extension": ".py",
   "mimetype": "text/x-python",
   "name": "python",
   "nbconvert_exporter": "python",
   "pygments_lexer": "ipython3",
   "version": "3.7.1"
  }
 },
 "nbformat": 4,
 "nbformat_minor": 2
}
