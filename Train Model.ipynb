{
 "cells": [
  {
   "cell_type": "code",
   "execution_count": 1,
   "metadata": {},
   "outputs": [
    {
     "name": "stdout",
     "output_type": "stream",
     "text": [
      "Cloning into 'gpt-2'...\n",
      "remote: Enumerating objects: 310, done.\u001b[K\n",
      "remote: Total 310 (delta 0), reused 0 (delta 0), pack-reused 310\u001b[K\n",
      "Receiving objects: 100% (310/310), 4.40 MiB | 1.61 MiB/s, done.\n",
      "Resolving deltas: 100% (167/167), done.\n",
      "Checking connectivity... done.\n"
     ]
    }
   ],
   "source": [
    "!git clone https://github.com/nshepperd/gpt-2.git"
   ]
  },
  {
   "cell_type": "code",
   "execution_count": 2,
   "metadata": {},
   "outputs": [
    {
     "name": "stdout",
     "output_type": "stream",
     "text": [
      "/Users/anthonymockler1/Google Drive/unglobalpulse/Research/PLJBot/gpt-2\n"
     ]
    }
   ],
   "source": [
    "cd gpt-2"
   ]
  },
  {
   "cell_type": "code",
   "execution_count": 3,
   "metadata": {
    "collapsed": true
   },
   "outputs": [
    {
     "name": "stdout",
     "output_type": "stream",
     "text": [
      "Collecting fire>=0.1.3 (from -r requirements.txt (line 1))\n",
      "\u001b[?25l  Downloading https://files.pythonhosted.org/packages/d9/69/faeaae8687f4de0f5973694d02e9d6c3eb827636a009157352d98de1129e/fire-0.2.1.tar.gz (76kB)\n",
      "\u001b[K     |████████████████████████████████| 81kB 1.2MB/s eta 0:00:01\n",
      "\u001b[?25hCollecting regex==2017.4.5 (from -r requirements.txt (line 2))\n",
      "\u001b[?25l  Downloading https://files.pythonhosted.org/packages/36/62/c0c0d762ffd4ffaf39f372eb8561b8d491a11ace5a7884610424a8b40f95/regex-2017.04.05.tar.gz (601kB)\n",
      "\u001b[K     |████████████████████████████████| 604kB 4.2MB/s eta 0:00:01\n",
      "\u001b[?25hCollecting requests==2.21.0 (from -r requirements.txt (line 3))\n",
      "\u001b[?25l  Downloading https://files.pythonhosted.org/packages/7d/e3/20f3d364d6c8e5d2353c72a67778eb189176f08e873c9900e10c0287b84b/requests-2.21.0-py2.py3-none-any.whl (57kB)\n",
      "\u001b[K     |████████████████████████████████| 61kB 3.8MB/s eta 0:00:011\n",
      "\u001b[?25hCollecting tqdm==4.31.1 (from -r requirements.txt (line 4))\n",
      "\u001b[?25l  Downloading https://files.pythonhosted.org/packages/6c/4b/c38b5144cf167c4f52288517436ccafefe9dc01b8d1c190e18a6b154cd4a/tqdm-4.31.1-py2.py3-none-any.whl (48kB)\n",
      "\u001b[K     |████████████████████████████████| 51kB 5.1MB/s eta 0:00:01\n",
      "\u001b[?25hCollecting toposort==1.5 (from -r requirements.txt (line 5))\n",
      "  Downloading https://files.pythonhosted.org/packages/e9/8a/321cd8ea5f4a22a06e3ba30ef31ec33bea11a3443eeb1d89807640ee6ed4/toposort-1.5-py2.py3-none-any.whl\n",
      "Requirement already satisfied: six in /Users/anthonymockler1/anaconda3/lib/python3.7/site-packages (from fire>=0.1.3->-r requirements.txt (line 1)) (1.12.0)\n",
      "Requirement already satisfied: termcolor in /Users/anthonymockler1/anaconda3/lib/python3.7/site-packages (from fire>=0.1.3->-r requirements.txt (line 1)) (1.1.0)\n",
      "Requirement already satisfied: certifi>=2017.4.17 in /Users/anthonymockler1/anaconda3/lib/python3.7/site-packages (from requests==2.21.0->-r requirements.txt (line 3)) (2019.3.9)\n",
      "Requirement already satisfied: urllib3<1.25,>=1.21.1 in /Users/anthonymockler1/anaconda3/lib/python3.7/site-packages (from requests==2.21.0->-r requirements.txt (line 3)) (1.23)\n",
      "Requirement already satisfied: chardet<3.1.0,>=3.0.2 in /Users/anthonymockler1/anaconda3/lib/python3.7/site-packages (from requests==2.21.0->-r requirements.txt (line 3)) (3.0.4)\n",
      "Requirement already satisfied: idna<2.9,>=2.5 in /Users/anthonymockler1/anaconda3/lib/python3.7/site-packages (from requests==2.21.0->-r requirements.txt (line 3)) (2.7)\n",
      "Building wheels for collected packages: fire, regex\n",
      "  Building wheel for fire (setup.py) ... \u001b[?25ldone\n",
      "\u001b[?25h  Created wheel for fire: filename=fire-0.2.1-py2.py3-none-any.whl size=103543 sha256=1990f7bc7f28d30162627b04cfc7f3cccbf683f53bb7a86d14853a60dcbe9c9e\n",
      "  Stored in directory: /Users/anthonymockler1/Library/Caches/pip/wheels/31/9c/c0/07b6dc7faf1844bb4688f46b569efe6cafaa2179c95db821da\n",
      "  Building wheel for regex (setup.py) ... \u001b[?25ldone\n",
      "\u001b[?25h  Created wheel for regex: filename=regex-2017.4.5-cp37-cp37m-macosx_10_9_x86_64.whl size=247986 sha256=9fec1203473bdf39977cc007ba210cbf44af68a93d834896ad1db96ac720fc77\n",
      "  Stored in directory: /Users/anthonymockler1/Library/Caches/pip/wheels/75/07/38/3c16b529d50cb4e0cd3dbc7b75cece8a09c132692c74450b01\n",
      "Successfully built fire regex\n",
      "\u001b[31mERROR: spacy 2.1.4 has requirement jsonschema<3.1.0,>=2.6.0, but you'll have jsonschema 3.1.1 which is incompatible.\u001b[0m\n",
      "\u001b[31mERROR: prodigy 1.8.3 has requirement jsonschema<3.0.0,>=2.6.0, but you'll have jsonschema 3.1.1 which is incompatible.\u001b[0m\n",
      "Installing collected packages: fire, regex, requests, tqdm, toposort\n",
      "  Found existing installation: regex 2018.1.10\n",
      "    Uninstalling regex-2018.1.10:\n",
      "      Successfully uninstalled regex-2018.1.10\n",
      "  Found existing installation: requests 2.19.1\n",
      "    Uninstalling requests-2.19.1:\n",
      "      Successfully uninstalled requests-2.19.1\n",
      "  Found existing installation: tqdm 4.26.0\n",
      "    Uninstalling tqdm-4.26.0:\n",
      "      Successfully uninstalled tqdm-4.26.0\n",
      "Successfully installed fire-0.2.1 regex-2017.4.5 requests-2.21.0 toposort-1.5 tqdm-4.31.1\n",
      "\u001b[33mWARNING: You are using pip version 19.2.1, however version 19.3.1 is available.\n",
      "You should consider upgrading via the 'pip install --upgrade pip' command.\u001b[0m\n"
     ]
    }
   ],
   "source": [
    "!pip3 install -r requirements.txt"
   ]
  },
  {
   "cell_type": "code",
   "execution_count": 4,
   "metadata": {},
   "outputs": [
    {
     "name": "stdout",
     "output_type": "stream",
     "text": [
      "Fetching checkpoint: 1.00kit [00:00, 475kit/s]                                                      \n",
      "Fetching encoder.json: 1.04Mit [00:00, 2.07Mit/s]                                                   \n",
      "Fetching hparams.json: 1.00kit [00:00, 263kit/s]                                                    \n",
      "Fetching model.ckpt.data-00000-of-00001: 1.42Git [04:58, 4.76Mit/s]                                 \n",
      "Fetching model.ckpt.index: 11.0kit [00:00, 4.06Mit/s]                                               \n",
      "Fetching model.ckpt.meta: 927kit [00:00, 3.42Mit/s]                                                 \n",
      "Fetching vocab.bpe: 457kit [00:00, 3.46Mit/s]                                                       \n"
     ]
    }
   ],
   "source": [
    "!python3 download_model.py 345M"
   ]
  },
  {
   "cell_type": "code",
   "execution_count": 6,
   "metadata": {},
   "outputs": [],
   "source": [
    "!export PYTHONIOENCODING=UTF-8"
   ]
  },
  {
   "cell_type": "code",
   "execution_count": 7,
   "metadata": {},
   "outputs": [
    {
     "name": "stdout",
     "output_type": "stream",
     "text": [
      "--2019-11-26 18:03:15--  https://raw.githubusercontent.com/AnthonyMockler/PLJBot/master/all_texts.txt\n",
      "Resolving raw.githubusercontent.com (raw.githubusercontent.com)... 151.101.8.133\n",
      "Connecting to raw.githubusercontent.com (raw.githubusercontent.com)|151.101.8.133|:443... connected.\n",
      "HTTP request sent, awaiting response... 200 OK\n",
      "Length: 250973 (245K) [text/plain]\n",
      "Saving to: ‘all_texts.txt’\n",
      "\n",
      "all_texts.txt       100%[===================>] 245.09K  1009KB/s    in 0.2s    \n",
      "\n",
      "2019-11-26 18:03:17 (1009 KB/s) - ‘all_texts.txt’ saved [250973/250973]\n",
      "\n"
     ]
    }
   ],
   "source": [
    "!wget https://raw.githubusercontent.com/AnthonyMockler/PLJBot/master/all_texts.txt"
   ]
  },
  {
   "cell_type": "code",
   "execution_count": 8,
   "metadata": {},
   "outputs": [
    {
     "name": "stdout",
     "output_type": "stream",
     "text": [
      "/Users/anthonymockler1/anaconda3/lib/python3.7/site-packages/dask/config.py:131: YAMLLoadWarning: calling yaml.load() without Loader=... is deprecated, as the default Loader is unsafe. Please read https://msg.pyyaml.org/load for full details.\n",
      "  data = yaml.load(f.read()) or {}\n",
      "2019-11-26 18:03:38.708242: I tensorflow/core/platform/cpu_feature_guard.cc:141] Your CPU supports instructions that this TensorFlow binary was not compiled to use: AVX2 FMA\n",
      "WARNING:tensorflow:From /Users/anthonymockler1/anaconda3/lib/python3.7/site-packages/tensorflow/python/framework/op_def_library.py:263: colocate_with (from tensorflow.python.framework.ops) is deprecated and will be removed in a future version.\n",
      "Instructions for updating:\n",
      "Colocations handled automatically by placer.\n",
      "WARNING:tensorflow:From /Users/anthonymockler1/Google Drive/unglobalpulse/Research/PLJBot/gpt-2/src/sample.py:65: to_float (from tensorflow.python.ops.math_ops) is deprecated and will be removed in a future version.\n",
      "Instructions for updating:\n",
      "Use tf.cast instead.\n",
      "WARNING:tensorflow:From /Users/anthonymockler1/Google Drive/unglobalpulse/Research/PLJBot/gpt-2/src/sample.py:70: multinomial (from tensorflow.python.ops.random_ops) is deprecated and will be removed in a future version.\n",
      "Instructions for updating:\n",
      "Use tf.random.categorical instead.\n",
      "WARNING:tensorflow:From /Users/anthonymockler1/anaconda3/lib/python3.7/site-packages/tensorflow/python/ops/math_ops.py:3066: to_int32 (from tensorflow.python.ops.math_ops) is deprecated and will be removed in a future version.\n",
      "Instructions for updating:\n",
      "Use tf.cast instead.\n",
      "WARNING:tensorflow:From /Users/anthonymockler1/anaconda3/lib/python3.7/site-packages/tensorflow/python/ops/math_grad.py:102: div (from tensorflow.python.ops.math_ops) is deprecated and will be removed in a future version.\n",
      "Instructions for updating:\n",
      "Deprecated in favor of operator or tf.math.divide.\n",
      "Loading checkpoint models/345M/model.ckpt\n",
      "WARNING:tensorflow:From /Users/anthonymockler1/anaconda3/lib/python3.7/site-packages/tensorflow/python/training/saver.py:1266: checkpoint_exists (from tensorflow.python.training.checkpoint_management) is deprecated and will be removed in a future version.\n",
      "Instructions for updating:\n",
      "Use standard file APIs to check for files with this prefix.\n",
      "Loading dataset...\n",
      "0it [00:00, ?it/s]\n",
      "dataset has 0 tokens\n",
      "Training...\n",
      "Traceback (most recent call last):\n",
      "  File \"./train.py\", line 297, in <module>\n",
      "    main()\n",
      "  File \"./train.py\", line 275, in main\n",
      "    feed_dict={context: sample_batch()})\n",
      "  File \"./train.py\", line 251, in sample_batch\n",
      "    return [data_sampler.sample(1024) for _ in range(args.batch_size)]\n",
      "  File \"./train.py\", line 251, in <listcomp>\n",
      "    return [data_sampler.sample(1024) for _ in range(args.batch_size)]\n",
      "  File \"/Users/anthonymockler1/Google Drive/unglobalpulse/Research/PLJBot/gpt-2/src/load_dataset.py\", line 74, in sample\n",
      "    self.chunks\n",
      "ZeroDivisionError: integer division or modulo by zero\n"
     ]
    }
   ],
   "source": [
    "!PYTHONPATH=src ./train.py --dataset /content/gpt-2/all_texts.txt --model_name '345M'"
   ]
  },
  {
   "cell_type": "code",
   "execution_count": null,
   "metadata": {},
   "outputs": [],
   "source": [
    "!cp -r /content/gpt-2/checkpoint/run1/* /content/gpt-2/models/345M/"
   ]
  },
  {
   "cell_type": "code",
   "execution_count": null,
   "metadata": {},
   "outputs": [],
   "source": [
    "!python3 src/interactive_conditional_samples.py --top_k 40 --model_name \"345M\""
   ]
  },
  {
   "cell_type": "code",
   "execution_count": null,
   "metadata": {},
   "outputs": [],
   "source": []
  }
 ],
 "metadata": {
  "kernelspec": {
   "display_name": "Python 3",
   "language": "python",
   "name": "python3"
  },
  "language_info": {
   "codemirror_mode": {
    "name": "ipython",
    "version": 3
   },
   "file_extension": ".py",
   "mimetype": "text/x-python",
   "name": "python",
   "nbconvert_exporter": "python",
   "pygments_lexer": "ipython3",
   "version": "3.7.1"
  }
 },
 "nbformat": 4,
 "nbformat_minor": 2
}
